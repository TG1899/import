{
 "cells": [
  {
   "cell_type": "markdown",
   "id": "1996c3be-ed69-4674-8fe1-dc8df3e9543b",
   "metadata": {},
   "source": [
    "# This is my cool Pipeline"
   ]
  },
  {
   "cell_type": "markdown",
   "id": "b3fc6cff-ffc7-4f0c-a93f-e35bdc388987",
   "metadata": {},
   "source": [
    "### Step 1: Import everything and load variables"
   ]
  },
  {
   "cell_type": "code",
   "execution_count": 50,
   "id": "ba20977a-e280-49ed-9857-392a0067ccdc",
   "metadata": {},
   "outputs": [
    {
     "name": "stdout",
     "output_type": "stream",
     "text": [
      "I will use a small hardcoded example.\n",
      "I will write the run file to /tmp/\n"
     ]
    }
   ],
   "source": [
    "import pyterrier as pt\n",
    "import pandas as pd\n",
    "import os\n",
    "\n",
    "if not pt.started():\n",
    "    pt.init(version='5.7', helper_version='0.0.7', no_download=True)\n",
    "\n",
    "input_data = os.environ.get('TIRA_INPUT_DIRECTORY', None)\n",
    "\n",
    "if input_data:\n",
    "    input_data = input_data + '/rerank.jsonl'\n",
    "    print(f'I will read the input data from {input_data}.')\n",
    "else:\n",
    "    print('I will use a small hardcoded example.')\n",
    "\n",
    "output_file = os.environ.get('TIRA_OUTPUT_DIRECTORY', '/tmp/')\n",
    "\n",
    "print(f'I will write the run file to {output_file}')\n"
   ]
  },
  {
   "cell_type": "markdown",
   "id": "7d17fffc-a409-4b40-a1f0-0463d365c853",
   "metadata": {},
   "source": [
    "### Step 2: Load the data"
   ]
  },
  {
   "cell_type": "code",
   "execution_count": 51,
   "id": "2558e75c-84dd-46c4-81bb-3b4ca27a8701",
   "metadata": {},
   "outputs": [
    {
     "data": {
      "text/html": [
       "<div>\n",
       "<style scoped>\n",
       "    .dataframe tbody tr th:only-of-type {\n",
       "        vertical-align: middle;\n",
       "    }\n",
       "\n",
       "    .dataframe tbody tr th {\n",
       "        vertical-align: top;\n",
       "    }\n",
       "\n",
       "    .dataframe thead th {\n",
       "        text-align: right;\n",
       "    }\n",
       "</style>\n",
       "<table border=\"1\" class=\"dataframe\">\n",
       "  <thead>\n",
       "    <tr style=\"text-align: right;\">\n",
       "      <th></th>\n",
       "      <th>qid</th>\n",
       "      <th>query</th>\n",
       "      <th>docno</th>\n",
       "      <th>text</th>\n",
       "    </tr>\n",
       "  </thead>\n",
       "  <tbody>\n",
       "    <tr>\n",
       "      <th>0</th>\n",
       "      <td>q1</td>\n",
       "      <td>chemical reactions</td>\n",
       "      <td>d1</td>\n",
       "      <td>professor protor poured the chemicals reaction</td>\n",
       "    </tr>\n",
       "    <tr>\n",
       "      <th>1</th>\n",
       "      <td>q1</td>\n",
       "      <td>chemical reactions</td>\n",
       "      <td>d2</td>\n",
       "      <td>chemical brothers turned up the beats</td>\n",
       "    </tr>\n",
       "  </tbody>\n",
       "</table>\n",
       "</div>"
      ],
      "text/plain": [
       "  qid               query docno  \\\n",
       "0  q1  chemical reactions    d1   \n",
       "1  q1  chemical reactions    d2   \n",
       "\n",
       "                                             text  \n",
       "0  professor protor poured the chemicals reaction  \n",
       "1           chemical brothers turned up the beats  "
      ]
     },
     "execution_count": 51,
     "metadata": {},
     "output_type": "execute_result"
    }
   ],
   "source": [
    "df = pd.DataFrame([\n",
    "    {'qid': 'q1', 'query': 'chemical reactions', 'docno': 'd1', 'text': 'professor protor poured the chemicals reaction'},\n",
    "    {'qid': 'q1', 'query': 'chemical reactions', 'docno': 'd2', 'text': 'chemical brothers turned up the beats'}\n",
    "])\n",
    "\n",
    "if input_data:\n",
    "    print(f'Read input data from {input_data}.')\n",
    "    df = pd.read_json(input_data, lines=True)\n",
    "    print(f'Done...')\n",
    "\n",
    "df"
   ]
  },
  {
   "cell_type": "markdown",
   "id": "169b2218-38ec-4c3d-80a7-b144ecd4cc02",
   "metadata": {},
   "source": [
    "### Step 3: Define the actual retrieval appraoch"
   ]
  },
  {
   "cell_type": "code",
   "execution_count": 44,
   "id": "eb38488f-a6bb-4960-a1c2-680fead6465d",
   "metadata": {},
   "outputs": [],
   "source": [
    "bm25_scorer = pt.text.scorer(body_attr=\"text\", wmodel='BM25')"
   ]
  },
  {
   "cell_type": "markdown",
   "id": "a7315abd-5fb1-478c-b8f6-5970dbfb7e5c",
   "metadata": {},
   "source": [
    "### Step 4: Run the pipeline"
   ]
  },
  {
   "cell_type": "code",
   "execution_count": 46,
   "id": "1a7b340c-0001-4480-9466-7e34c5f83dcc",
   "metadata": {},
   "outputs": [
    {
     "name": "stdout",
     "output_type": "stream",
     "text": [
      "18:43:29.314 [main] WARN org.terrier.querying.ApplyTermPipeline - The index has no termpipelines configuration, and no control configuration is found. Defaulting to global termpipelines configuration of 'Stopwords,PorterStemmer'. Set a termpipelines control to remove this warning.\n"
     ]
    },
    {
     "data": {
      "text/html": [
       "<div>\n",
       "<style scoped>\n",
       "    .dataframe tbody tr th:only-of-type {\n",
       "        vertical-align: middle;\n",
       "    }\n",
       "\n",
       "    .dataframe tbody tr th {\n",
       "        vertical-align: top;\n",
       "    }\n",
       "\n",
       "    .dataframe thead th {\n",
       "        text-align: right;\n",
       "    }\n",
       "</style>\n",
       "<table border=\"1\" class=\"dataframe\">\n",
       "  <thead>\n",
       "    <tr style=\"text-align: right;\">\n",
       "      <th></th>\n",
       "      <th>qid</th>\n",
       "      <th>docno</th>\n",
       "      <th>text</th>\n",
       "      <th>rank</th>\n",
       "      <th>score</th>\n",
       "      <th>query</th>\n",
       "    </tr>\n",
       "  </thead>\n",
       "  <tbody>\n",
       "    <tr>\n",
       "      <th>0</th>\n",
       "      <td>q1</td>\n",
       "      <td>d1</td>\n",
       "      <td>professor protor poured the chemicals reaction</td>\n",
       "      <td>0</td>\n",
       "      <td>-2.220975</td>\n",
       "      <td>chemical reactions</td>\n",
       "    </tr>\n",
       "    <tr>\n",
       "      <th>1</th>\n",
       "      <td>q1</td>\n",
       "      <td>d2</td>\n",
       "      <td>chemical brothers turned up the beats</td>\n",
       "      <td>1</td>\n",
       "      <td>-2.432496</td>\n",
       "      <td>chemical reactions</td>\n",
       "    </tr>\n",
       "  </tbody>\n",
       "</table>\n",
       "</div>"
      ],
      "text/plain": [
       "  qid docno                                            text  rank     score  \\\n",
       "0  q1    d1  professor protor poured the chemicals reaction     0 -2.220975   \n",
       "1  q1    d2           chemical brothers turned up the beats     1 -2.432496   \n",
       "\n",
       "                query  \n",
       "0  chemical reactions  \n",
       "1  chemical reactions  "
      ]
     },
     "execution_count": 46,
     "metadata": {},
     "output_type": "execute_result"
    }
   ],
   "source": [
    "results = bm25_scorer(df)\n",
    "results"
   ]
  },
  {
   "cell_type": "markdown",
   "id": "0fbff470-0907-4864-8795-6ea4ec8f9586",
   "metadata": {},
   "source": [
    "### Step 5: Persist results"
   ]
  }
 ],
 "metadata": {
  "kernelspec": {
   "display_name": "Python 3 (ipykernel)",
   "language": "python",
   "name": "python3"
  },
  "language_info": {
   "codemirror_mode": {
    "name": "ipython",
    "version": 3
   },
   "file_extension": ".py",
   "mimetype": "text/x-python",
   "name": "python",
   "nbconvert_exporter": "python",
   "pygments_lexer": "ipython3",
   "version": "3.7.13"
  }
 },
 "nbformat": 4,
 "nbformat_minor": 5
}
