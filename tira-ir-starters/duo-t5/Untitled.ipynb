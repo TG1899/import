{
 "cells": [
  {
   "cell_type": "code",
   "execution_count": null,
   "id": "68b19e01-c24e-466d-b331-50f4d543fef3",
   "metadata": {},
   "outputs": [
    {
     "name": "stderr",
     "output_type": "stream",
     "text": [
      "/opt/conda/lib/python3.7/site-packages/tqdm/auto.py:22: TqdmWarning: IProgress not found. Please update jupyter and ipywidgets. See https://ipywidgets.readthedocs.io/en/stable/user_install.html\n",
      "  from .autonotebook import tqdm as notebook_tqdm\n",
      "PyTerrier 0.9.1 has loaded Terrier 5.7 (built by craigm on 2022-11-10 18:30) and terrier-helper 0.0.7\n",
      "\n",
      "No etc/terrier.properties, using terrier.default.properties for bootstrap configuration.\n",
      "duoT5:   0%|                                                                                                           | 0/3 [00:00<?, ?queries/s]Token indices sequence length is longer than the specified maximum sequence length for this model (12974 > 512). Running this sequence through the model will result in indexing errors\n"
     ]
    }
   ],
   "source": [
    "import importlib\n",
    "duo_t5_preferences = importlib.import_module('duo-t5-preferences')\n",
    "\n",
    "duo_t5_preferences.main('../sample-input/re-rank-default-text', '/tmp/dasa')"
   ]
  },
  {
   "cell_type": "code",
   "execution_count": 8,
   "id": "56b63cd2-25ee-4cdc-a800-4339eb2602d8",
   "metadata": {},
   "outputs": [
    {
     "name": "stdout",
     "output_type": "stream",
     "text": [
      "rerank.jsonl\n"
     ]
    }
   ],
   "source": [
    "!ls ../sample-input/re-rank-default-text\n"
   ]
  }
 ],
 "metadata": {
  "kernelspec": {
   "display_name": "Python 3 (ipykernel)",
   "language": "python",
   "name": "python3"
  },
  "language_info": {
   "codemirror_mode": {
    "name": "ipython",
    "version": 3
   },
   "file_extension": ".py",
   "mimetype": "text/x-python",
   "name": "python",
   "nbconvert_exporter": "python",
   "pygments_lexer": "ipython3",
   "version": "3.7.13"
  }
 },
 "nbformat": 4,
 "nbformat_minor": 5
}
